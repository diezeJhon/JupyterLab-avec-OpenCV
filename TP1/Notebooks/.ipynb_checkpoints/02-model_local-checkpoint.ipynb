{
 "cells": [
  {
   "cell_type": "markdown",
   "metadata": {
    "editable": true,
    "slideshow": {
     "slide_type": ""
    },
    "tags": []
   },
   "source": [
    "# TP1-2 : Application locale du modèle Teachable Machine\n",
    "\n",
    "Après avoir entraîné et testé votre modèle de machine learning, vous êtes prêt à intégrer ce modèle dans une application locale pour identifier automatiquement les composants. \n",
    "Le code que vous allez réaliser permet de visualiser les résultats du modèle sur l'ensemble des images contenues dans le dossier \"test\".\n",
    "Voici les étapes pour réaliser le code de la fonction de classification.\n",
    "\n",
    "Exécuter la cellule suivante pour charger les bibliothèques nécessaires.\n"
   ]
  },
  {
   "cell_type": "code",
   "execution_count": 7,
   "metadata": {
    "editable": true,
    "slideshow": {
     "slide_type": ""
    },
    "tags": []
   },
   "outputs": [],
   "source": [
    "from keras.models import load_model\n",
    "import cv2\n",
    "import numpy as np\n",
    "import os\n",
    "import pandas as pd"
   ]
  },
  {
   "cell_type": "markdown",
   "metadata": {},
   "source": [
    "Le code suivant charge le modèle Keras  générer par Teachable Machine à partir du fichier \"keras_model.h5\". Il charge ensuite les noms de classe à partir du fichier texte \"labels.txt\" dans. On définit également un chemin vers le dossier contenant les images à tester. Enfin, une liste vide \"results\" est initialisée. Elle sera utilisée pour stocker les résultats de la prédiction du modèle sur les images du dossier spécifié.\n",
    "\n",
    "Exécutez la cellule."
   ]
  },
  {
   "cell_type": "code",
   "execution_count": 8,
   "metadata": {},
   "outputs": [],
   "source": [
    "# Charger le modèle\n",
    "model = load_model(\"../Model/keras_model.h5\", compile=False)\n",
    "\n",
    "# Charger les labels\n",
    "class_names = open(\"../Model/labels.txt\", \"r\").readlines()\n",
    "\n",
    "# Dossier images\n",
    "folder_path = \"../img/test/\"\n",
    "\n",
    "# liste pour résultats\n",
    "results = []"
   ]
  },
  {
   "cell_type": "markdown",
   "metadata": {},
   "source": [
    "Le code suivant définit deux fonctions:\n",
    "\n",
    "Une pour prétraiter les images afin qu'elles soient au bon format pour le modèle et une seconde pour prédire la classe et le score de confiance à partir de ces images :\n",
    "\n",
    "preprocess_image(image) :\n",
    "\n",
    "- Cette fonction prend une image en entrée.\n",
    "- Elle redimensionne l'image à une taille de 224x224 pixels en utilisant la méthode cv2.resize() avec l'interpolation cv2.INTER_AREA.\n",
    "- Elle convertit l'image en un tableau numpy de type np.float32 et le remodelle en un tenseur de forme (1, 224, 224, 3), ce qui est compatible avec les dimensions attendues par le modèle.\n",
    "- Enfin, elle normalise les valeurs des pixels de l'image pour les ramener dans la plage [-1, 1] en soustrayant 1 et en divisant par 127.5. Cela aide à rendre les valeurs d'entrée compatibles avec les valeurs attendues par le modèle pré-entraîné.\n",
    "\n",
    "predict_image(image) :\n",
    "\n",
    "- Cette fonction prend l'image prétraitée en entrée.\n",
    "- Elle utilise le modèle chargé pour prédire la classe et le score de confiance associés à l'image.\n",
    "- La prédiction est effectuée en appelant la méthode predict() du modèle sur l'image.\n",
    "- Ensuite, elle trouve l'indice de la classe prédite avec le score de confiance le plus élevé en utilisant np.argmax().\n",
    "- Elle récupère le nom de la classe correspondant à cet indice à partir de la liste class_names.\n",
    "- Enfin, elle extrait le score de confiance de la prédiction à partir du tableau de prédictions et le renvoie avec le nom de la classe prédite.\n",
    "\n",
    "Exécutez la cellule suivante."
   ]
  },
  {
   "cell_type": "code",
   "execution_count": 9,
   "metadata": {},
   "outputs": [],
   "source": [
    "# Function to preprocess the image\n",
    "def preprocess_image(image):\n",
    "    image = cv2.resize(image, (224, 224), interpolation=cv2.INTER_AREA)\n",
    "    image = np.asarray(image, dtype=np.float32).reshape(1, 224, 224, 3)\n",
    "    image = (image / 127.5) - 1\n",
    "    return image\n",
    "\n",
    "# Function to predict the class and confidence score\n",
    "def predict_image(image):\n",
    "    prediction = model.predict(image)\n",
    "    index = np.argmax(prediction)\n",
    "    class_name = class_names[index]\n",
    "    confidence_score = prediction[0][index]\n",
    "    return class_name, confidence_score\n"
   ]
  },
  {
   "cell_type": "markdown",
   "metadata": {},
   "source": [
    "\n",
    "Le code suivant parcourt les fichiers du répertoire d'images tests et effectue les opérations suivantes pour chaque fichier :\n",
    "\n",
    "- Vérification de l'extension : Il vérifie si le fichier a l'extension \".jpg\" en utilisant filename.endswith(\".bmp\"). Cela garantit que seuls les fichiers .jpg seront traités.\n",
    "\n",
    "- Chargement de l'image : Une fois qu'un fichier .jpg est trouvé, son chemin d'accès complet est construit en utilisant os.path.join(folder_path, filename). Ensuite, l'image est chargée à partir du chemin d'accès en utilisant cv2.imread(image_path).\n",
    "\n",
    "- Prétraitement de l'image : L'image est prétraitée en appelant la fonction preprocess_image(image), qui redimensionne l'image à la taille attendue, la convertit en un format compatible avec le modèle, et la normalise pour l'utilisation dans la prédiction.\n",
    "\n",
    "- Prédiction de la classe et du score de confiance : La fonction predict_image(image) est utilisée pour prédire la classe et le score de confiance associés à l'image prétraitée.\n",
    "\n",
    "- Stockage des résultats : Les résultats de la prédiction, à savoir le nom du fichier, la classe prédite et le score de prédiction, sont stockés dans un dictionnaire et ajoutés à la liste results initialisée au début du code.\n",
    "\n",
    "Une fois que toutes les images ont été traitées, la liste results est convertie en un DataFrame pandas à l'aide de pd.DataFrame(results). Le DataFrame résultant, df, contient les résultats de la prédiction pour chaque image du dossier spécifié. Chaque ligne du DataFrame correspond à une image et contient le nom de l'image, la classe prédite et le score de prédiction associé.\n",
    "\n",
    "Exécutez la cellule suivante."
   ]
  },
  {
   "cell_type": "code",
   "execution_count": 10,
   "metadata": {},
   "outputs": [
    {
     "name": "stdout",
     "output_type": "stream",
     "text": [
      "1/1 [==============================] - 0s 397ms/step\n",
      "1/1 [==============================] - 0s 33ms/step\n",
      "1/1 [==============================] - 0s 33ms/step\n",
      "1/1 [==============================] - 0s 33ms/step\n",
      "1/1 [==============================] - 0s 35ms/step\n",
      "1/1 [==============================] - 0s 40ms/step\n",
      "1/1 [==============================] - 0s 33ms/step\n",
      "1/1 [==============================] - 0s 32ms/step\n",
      "1/1 [==============================] - 0s 33ms/step\n",
      "1/1 [==============================] - 0s 35ms/step\n",
      "1/1 [==============================] - 0s 38ms/step\n",
      "1/1 [==============================] - 0s 33ms/step\n",
      "1/1 [==============================] - 0s 32ms/step\n",
      "1/1 [==============================] - 0s 34ms/step\n",
      "1/1 [==============================] - 0s 33ms/step\n"
     ]
    }
   ],
   "source": [
    "# Parcourir les fichiers dans le dossier\n",
    "for filename in os.listdir(folder_path):\n",
    "    if filename.endswith(\".jpg\"):\n",
    "        image_path = os.path.join(folder_path, filename)\n",
    "        image = cv2.imread(image_path)\n",
    "        image = preprocess_image(image)\n",
    "        class_name, confidence_score = predict_image(image)\n",
    "        results.append({\"Image\": filename, \"Classe predite\": class_name, \"Score de prediction\": confidence_score})\n",
    "\n",
    "# Convertir les résultats en DataFrame\n",
    "df = pd.DataFrame(results)"
   ]
  },
  {
   "cell_type": "markdown",
   "metadata": {},
   "source": [
    "Le code suivant affiche les 50 premières lignes du DataFrame df, qui contient les résultats de la prédiction pour chaque image du dossier spécifié.\n",
    "\n",
    "Cela permet de s'assurer que les résultats sont correctement formatés et interprétés. Chaque ligne du DataFrame représente une image et contient les informations suivantes :\n",
    "\n",
    "- \"Image\" : Le nom du fichier de l'image.\n",
    "- \"Classe prédite\" : La classe prédite pour l'image.\n",
    "- \"Score de prédiction\" : Le score de confiance associé à la prédiction de la classe pour l'image.\n",
    "\n",
    "En affichant le DataFrame, on peut rapidement vérifier si les prédictions semblent raisonnables et si les scores de confiance sont cohérents avec les attentes. Cela peut également aider à identifier tout problème éventuel dans le processus de prédiction ou de traitement des données.\n",
    "\n",
    "Exécutez la cellule suivante."
   ]
  },
  {
   "cell_type": "code",
   "execution_count": 11,
   "metadata": {},
   "outputs": [
    {
     "data": {
      "text/html": [
       "<div>\n",
       "<style scoped>\n",
       "    .dataframe tbody tr th:only-of-type {\n",
       "        vertical-align: middle;\n",
       "    }\n",
       "\n",
       "    .dataframe tbody tr th {\n",
       "        vertical-align: top;\n",
       "    }\n",
       "\n",
       "    .dataframe thead th {\n",
       "        text-align: right;\n",
       "    }\n",
       "</style>\n",
       "<table border=\"1\" class=\"dataframe\">\n",
       "  <thead>\n",
       "    <tr style=\"text-align: right;\">\n",
       "      <th></th>\n",
       "      <th>Image</th>\n",
       "      <th>Classe predite</th>\n",
       "      <th>Score de prediction</th>\n",
       "    </tr>\n",
       "  </thead>\n",
       "  <tbody>\n",
       "    <tr>\n",
       "      <th>0</th>\n",
       "      <td>image_enregistree2_0.jpg</td>\n",
       "      <td>1 longue\\n</td>\n",
       "      <td>0.860829</td>\n",
       "    </tr>\n",
       "    <tr>\n",
       "      <th>1</th>\n",
       "      <td>image_enregistree2_1.jpg</td>\n",
       "      <td>1 longue\\n</td>\n",
       "      <td>0.992684</td>\n",
       "    </tr>\n",
       "    <tr>\n",
       "      <th>2</th>\n",
       "      <td>image_enregistree2_101.jpg</td>\n",
       "      <td>2 vide\\n</td>\n",
       "      <td>0.999936</td>\n",
       "    </tr>\n",
       "    <tr>\n",
       "      <th>3</th>\n",
       "      <td>image_enregistree2_102.jpg</td>\n",
       "      <td>2 vide\\n</td>\n",
       "      <td>0.999937</td>\n",
       "    </tr>\n",
       "    <tr>\n",
       "      <th>4</th>\n",
       "      <td>image_enregistree2_103.jpg</td>\n",
       "      <td>2 vide\\n</td>\n",
       "      <td>0.999942</td>\n",
       "    </tr>\n",
       "    <tr>\n",
       "      <th>5</th>\n",
       "      <td>image_enregistree2_2.jpg</td>\n",
       "      <td>1 longue\\n</td>\n",
       "      <td>0.998784</td>\n",
       "    </tr>\n",
       "    <tr>\n",
       "      <th>6</th>\n",
       "      <td>image_enregistree2_3.jpg</td>\n",
       "      <td>1 longue\\n</td>\n",
       "      <td>0.997409</td>\n",
       "    </tr>\n",
       "    <tr>\n",
       "      <th>7</th>\n",
       "      <td>image_enregistree2_4.jpg</td>\n",
       "      <td>1 longue\\n</td>\n",
       "      <td>0.997329</td>\n",
       "    </tr>\n",
       "    <tr>\n",
       "      <th>8</th>\n",
       "      <td>image_enregistree2_5.jpg</td>\n",
       "      <td>1 longue\\n</td>\n",
       "      <td>0.983972</td>\n",
       "    </tr>\n",
       "    <tr>\n",
       "      <th>9</th>\n",
       "      <td>image_enregistree_10.jpg</td>\n",
       "      <td>0 courte\\n</td>\n",
       "      <td>0.951989</td>\n",
       "    </tr>\n",
       "    <tr>\n",
       "      <th>10</th>\n",
       "      <td>image_enregistree_11.jpg</td>\n",
       "      <td>0 courte\\n</td>\n",
       "      <td>0.998708</td>\n",
       "    </tr>\n",
       "    <tr>\n",
       "      <th>11</th>\n",
       "      <td>image_enregistree_12.jpg</td>\n",
       "      <td>0 courte\\n</td>\n",
       "      <td>0.999850</td>\n",
       "    </tr>\n",
       "    <tr>\n",
       "      <th>12</th>\n",
       "      <td>image_enregistree_13.jpg</td>\n",
       "      <td>0 courte\\n</td>\n",
       "      <td>0.999698</td>\n",
       "    </tr>\n",
       "    <tr>\n",
       "      <th>13</th>\n",
       "      <td>image_enregistree_8.jpg</td>\n",
       "      <td>0 courte\\n</td>\n",
       "      <td>0.983306</td>\n",
       "    </tr>\n",
       "    <tr>\n",
       "      <th>14</th>\n",
       "      <td>image_enregistree_9.jpg</td>\n",
       "      <td>0 courte\\n</td>\n",
       "      <td>0.937616</td>\n",
       "    </tr>\n",
       "  </tbody>\n",
       "</table>\n",
       "</div>"
      ],
      "text/plain": [
       "                         Image Classe predite  Score de prediction\n",
       "0     image_enregistree2_0.jpg     1 longue\\n             0.860829\n",
       "1     image_enregistree2_1.jpg     1 longue\\n             0.992684\n",
       "2   image_enregistree2_101.jpg       2 vide\\n             0.999936\n",
       "3   image_enregistree2_102.jpg       2 vide\\n             0.999937\n",
       "4   image_enregistree2_103.jpg       2 vide\\n             0.999942\n",
       "5     image_enregistree2_2.jpg     1 longue\\n             0.998784\n",
       "6     image_enregistree2_3.jpg     1 longue\\n             0.997409\n",
       "7     image_enregistree2_4.jpg     1 longue\\n             0.997329\n",
       "8     image_enregistree2_5.jpg     1 longue\\n             0.983972\n",
       "9     image_enregistree_10.jpg     0 courte\\n             0.951989\n",
       "10    image_enregistree_11.jpg     0 courte\\n             0.998708\n",
       "11    image_enregistree_12.jpg     0 courte\\n             0.999850\n",
       "12    image_enregistree_13.jpg     0 courte\\n             0.999698\n",
       "13     image_enregistree_8.jpg     0 courte\\n             0.983306\n",
       "14     image_enregistree_9.jpg     0 courte\\n             0.937616"
      ]
     },
     "execution_count": 11,
     "metadata": {},
     "output_type": "execute_result"
    }
   ],
   "source": [
    "# Afficher le DataFrame\n",
    "df.head(50)"
   ]
  },
  {
   "cell_type": "markdown",
   "metadata": {},
   "source": [
    "On peut voir que le modèle est très performant sur les images du dossier test. \n",
    "\n",
    "Dans le prochain Notebook nous allons implémenté le modèle dans un flux vidéo. L'objectif sera d'afficher en continu le résultat de contrôle de la caméra en mode vidéo.\n",
    "\n",
    "Rendez vous au Notebook 03-Model_live.ipynb du dossier \"TP1\""
   ]
  }
 ],
 "metadata": {
  "kernelspec": {
   "display_name": "Python 3 (ipykernel)",
   "language": "python",
   "name": "python3"
  },
  "language_info": {
   "codemirror_mode": {
    "name": "ipython",
    "version": 3
   },
   "file_extension": ".py",
   "mimetype": "text/x-python",
   "name": "python",
   "nbconvert_exporter": "python",
   "pygments_lexer": "ipython3",
   "version": "3.9.2"
  }
 },
 "nbformat": 4,
 "nbformat_minor": 4
}
